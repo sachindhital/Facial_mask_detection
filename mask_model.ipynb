{
 "cells": [
  {
   "cell_type": "code",
   "execution_count": 3,
   "metadata": {},
   "outputs": [
    {
     "name": "stdout",
     "output_type": "stream",
     "text": [
      "['without_mask', 'with_mask']\n",
      "[0, 1]\n",
      "{'without_mask': 0, 'with_mask': 1}\n"
     ]
    }
   ],
   "source": [
    "import cv2,os\n",
    "data_path='dataset'\n",
    "categories=os.listdir(data_path)\n",
    "labels=[i for i in range(len(categories))]\n",
    "label_dict=dict(zip(categories,labels))\n",
    "\n",
    "print(categories)\n",
    "print(labels)\n",
    "print(label_dict)\n"
   ]
  },
  {
   "cell_type": "code",
   "execution_count": 4,
   "metadata": {},
   "outputs": [],
   "source": [
    "import numpy as np\n",
    "img_size=100\n",
    "data=[]\n",
    "target=[]\n",
    "for category in categories:\n",
    "    folder_path=os.path.join(data_path,category)\n",
    "    img_names=os.listdir(folder_path)\n",
    "    \n",
    "    for img_name in img_names:\n",
    "        img_path=os.path.join(folder_path,img_name)\n",
    "        img=cv2.imread(img_path)\n",
    "\n",
    "        try:\n",
    "            gray=cv2.cvtColor(img,cv2.COLOR_BGR2GRAY)           \n",
    "            #Coverting the image into gray scale\n",
    "            resized=cv2.resize(gray,(img_size,img_size))\n",
    "            data.append(resized)\n",
    "            target.append(label_dict[category])\n",
    "        except Exception as e:\n",
    "            print('exception',e)\n",
    "\n",
    "    \n"
   ]
  },
  {
   "cell_type": "code",
   "execution_count": 5,
   "metadata": {},
   "outputs": [
    {
     "name": "stderr",
     "output_type": "stream",
     "text": [
      "Using TensorFlow backend.\n"
     ]
    }
   ],
   "source": [
    "data=np.array(data)/255.0\n",
    "data=np.reshape(data,(data.shape[0],img_size,img_size,1))\n",
    "target=np.array(target)\n",
    "from keras.utils import np_utils\n",
    "new_target=np_utils.to_categorical(target)\n"
   ]
  },
  {
   "cell_type": "code",
   "execution_count": 6,
   "metadata": {},
   "outputs": [
    {
     "data": {
      "text/plain": [
       "(1376, 2)"
      ]
     },
     "execution_count": 6,
     "metadata": {},
     "output_type": "execute_result"
    }
   ],
   "source": [
    "new_target.shape"
   ]
  },
  {
   "cell_type": "code",
   "execution_count": 30,
   "metadata": {},
   "outputs": [],
   "source": [
    "np.save('data',data)\n",
    "np.save('target',new_target)\n"
   ]
  },
  {
   "cell_type": "code",
   "execution_count": 31,
   "metadata": {},
   "outputs": [],
   "source": [
    "data=np.load('data.npy')\n",
    "target=np.load('target.npy')\n"
   ]
  },
  {
   "cell_type": "code",
   "execution_count": 32,
   "metadata": {},
   "outputs": [],
   "source": [
    "from keras.models import Sequential\n",
    "from keras.layers import Dense,Activation,Flatten,Dropout\n",
    "from keras.layers import Conv2D,MaxPooling2D\n",
    "from keras.callbacks import ModelCheckpoint"
   ]
  },
  {
   "cell_type": "code",
   "execution_count": 33,
   "metadata": {},
   "outputs": [],
   "source": [
    "model=Sequential()\n",
    "model.add(Conv2D(200,(3,3),input_shape=data.shape[1:]))\n",
    "model.add(Activation('relu'))\n",
    "model.add(MaxPooling2D(pool_size=(2,2)))\n",
    "#the first layer of CNN ollowed by Relu and MaxPooling layers\n",
    "\n",
    "model.add(Conv2D(100,(3,3)))\n",
    "model.add(Activation('relu'))\n",
    "model.add(MaxPooling2D(pool_size=(2,2)))\n",
    "#the second convolution layer followed by Relu and MaxPooling layers\n",
    "\n",
    "\n",
    "model.add(Flatten())\n",
    "model.add(Dropout(0.5))\n",
    "#flatten layer to stack the output concolutions from second convolution layer\n",
    "model.add(Dense(50,activation='relu'))\n",
    "#Dense layer of 64 neurons\n",
    "model.add(Dense(2,activation='softmax'))\n",
    "#final layer with two outputs for two categories\n",
    "\n",
    "model.compile(loss='categorical_crossentropy',optimizer='adam',metrics=['accuracy'])\n",
    "\n",
    "\n",
    "\n"
   ]
  },
  {
   "cell_type": "code",
   "execution_count": 35,
   "metadata": {},
   "outputs": [],
   "source": [
    "from sklearn.model_selection import train_test_split\n",
    "train_data,test_data,train_target,test_target=train_test_split(data,target,test_size=0.1)\n"
   ]
  },
  {
   "cell_type": "code",
   "execution_count": 36,
   "metadata": {},
   "outputs": [
    {
     "name": "stdout",
     "output_type": "stream",
     "text": [
      "Train on 990 samples, validate on 248 samples\n",
      "Epoch 1/20\n",
      "990/990 [==============================] - 65s 66ms/step - loss: 0.7011 - acc: 0.5263 - val_loss: 0.6411 - val_acc: 0.5847\n",
      "Epoch 2/20\n",
      "990/990 [==============================] - 59s 59ms/step - loss: 0.5963 - acc: 0.7020 - val_loss: 0.5430 - val_acc: 0.7621\n",
      "Epoch 3/20\n",
      "990/990 [==============================] - 59s 59ms/step - loss: 0.4712 - acc: 0.7848 - val_loss: 0.4883 - val_acc: 0.7742\n",
      "Epoch 4/20\n",
      "990/990 [==============================] - 58s 59ms/step - loss: 0.3579 - acc: 0.8667 - val_loss: 0.2676 - val_acc: 0.9073\n",
      "Epoch 5/20\n",
      "990/990 [==============================] - 58s 59ms/step - loss: 0.2387 - acc: 0.9040 - val_loss: 0.2312 - val_acc: 0.9073\n",
      "Epoch 6/20\n",
      "990/990 [==============================] - 59s 59ms/step - loss: 0.2014 - acc: 0.9242 - val_loss: 0.2757 - val_acc: 0.8952\n",
      "Epoch 7/20\n",
      "990/990 [==============================] - 59s 60ms/step - loss: 0.1708 - acc: 0.9515 - val_loss: 0.1790 - val_acc: 0.9234\n",
      "Epoch 8/20\n",
      "990/990 [==============================] - 59s 60ms/step - loss: 0.1017 - acc: 0.9626 - val_loss: 0.2427 - val_acc: 0.9113\n",
      "Epoch 9/20\n",
      "990/990 [==============================] - 58s 59ms/step - loss: 0.1318 - acc: 0.9485 - val_loss: 0.1988 - val_acc: 0.9355\n",
      "Epoch 10/20\n",
      "990/990 [==============================] - 58s 59ms/step - loss: 0.0717 - acc: 0.9717 - val_loss: 0.1346 - val_acc: 0.9476\n",
      "Epoch 11/20\n",
      "990/990 [==============================] - 58s 59ms/step - loss: 0.0638 - acc: 0.9747 - val_loss: 0.1023 - val_acc: 0.9637\n",
      "Epoch 12/20\n",
      "990/990 [==============================] - 58s 59ms/step - loss: 0.0737 - acc: 0.9778 - val_loss: 0.1984 - val_acc: 0.9395\n",
      "Epoch 13/20\n",
      "990/990 [==============================] - 58s 59ms/step - loss: 0.0484 - acc: 0.9818 - val_loss: 0.1214 - val_acc: 0.9516\n",
      "Epoch 14/20\n",
      "990/990 [==============================] - 58s 59ms/step - loss: 0.0481 - acc: 0.9808 - val_loss: 0.1216 - val_acc: 0.9597\n",
      "Epoch 15/20\n",
      "990/990 [==============================] - 48s 48ms/step - loss: 0.0443 - acc: 0.9828 - val_loss: 0.1036 - val_acc: 0.9637\n",
      "Epoch 16/20\n",
      "990/990 [==============================] - 46s 47ms/step - loss: 0.0317 - acc: 0.9909 - val_loss: 0.1161 - val_acc: 0.9556\n",
      "Epoch 17/20\n",
      "990/990 [==============================] - 46s 46ms/step - loss: 0.0280 - acc: 0.9879 - val_loss: 0.1085 - val_acc: 0.9637\n",
      "Epoch 18/20\n",
      "990/990 [==============================] - 46s 46ms/step - loss: 0.0229 - acc: 0.9949 - val_loss: 0.1434 - val_acc: 0.9597\n",
      "Epoch 19/20\n",
      "990/990 [==============================] - 46s 46ms/step - loss: 0.0186 - acc: 0.9919 - val_loss: 0.1548 - val_acc: 0.9476\n",
      "Epoch 20/20\n",
      "990/990 [==============================] - 46s 46ms/step - loss: 0.0325 - acc: 0.9879 - val_loss: 0.1053 - val_acc: 0.9597\n"
     ]
    }
   ],
   "source": [
    "checkpoint=ModelCheckpoint('model-{epoch:03d}.model',monitor='val_loss',verbose=0,save_best_only=True,mode='auto')\n",
    "history=model.fit(train_data,train_target,epochs=20,callbacks=[checkpoint],validation_split=0.2)"
   ]
  },
  {
   "cell_type": "code",
   "execution_count": 37,
   "metadata": {},
   "outputs": [
    {
     "name": "stdout",
     "output_type": "stream",
     "text": [
      "138/138 [==============================] - 2s 16ms/step\n",
      "[0.049911201243167336, 0.9782608695652174]\n"
     ]
    }
   ],
   "source": [
    "print(model.evaluate(test_data,test_target))"
   ]
  },
  {
   "cell_type": "code",
   "execution_count": null,
   "metadata": {},
   "outputs": [],
   "source": []
  }
 ],
 "metadata": {
  "kernelspec": {
   "display_name": "Python 3",
   "language": "python",
   "name": "python3"
  },
  "language_info": {
   "codemirror_mode": {
    "name": "ipython",
    "version": 3
   },
   "file_extension": ".py",
   "mimetype": "text/x-python",
   "name": "python",
   "nbconvert_exporter": "python",
   "pygments_lexer": "ipython3",
   "version": "3.7.4"
  }
 },
 "nbformat": 4,
 "nbformat_minor": 2
}
